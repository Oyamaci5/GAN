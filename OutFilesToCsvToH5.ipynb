{
 "cells": [
  {
   "cell_type": "code",
   "execution_count": 49,
   "id": "2d2f453c",
   "metadata": {
    "scrolled": true
   },
   "outputs": [
    {
     "name": "stderr",
     "output_type": "stream",
     "text": [
      "C:\\Users\\oguzh\\Anaconda3\\lib\\site-packages\\IPython\\core\\interactiveshell.py:3444: DtypeWarning: Columns (0,1,2,3,4,5) have mixed types.Specify dtype option on import or set low_memory=False.\n",
      "  exec(code_obj, self.user_global_ns, self.user_ns)\n"
     ]
    }
   ],
   "source": [
    "#This file convert to out files to txt and convert txt files to hdf5.\n",
    "import pandas as pd\n",
    "import numpy as np\n",
    "import h5py\n",
    "import os\n",
    "import io\n",
    "import matplotlib.pyplot as plt\n",
    "import csv\n",
    "column_names = ['X','Y','Z','Total(MeV)', 'Total(val^2)','Entry']\n",
    "for i in range(3,203):\n",
    "    df = pd.read_csv(('C:/Users/oguzh/Jupyter Note/Train/new/{}.out'.format(i)), names = column_names,sep =',', \n",
    "                          skipinitialspace=True)\n",
    "    \n",
    "    low_memory = False\n",
    "    df = df.iloc[3: , :]\n",
    "    df = df.astype({\"X\": int, \"Y\": int, \"Z\": int, \"Total(MeV)\": float,\"Total(val^2)\": float,\"Entry\": int})\n",
    "    df = df.drop([\"X\", \"Y\", \"Z\"], axis=1)\n",
    "    df.to_csv(('C:/Users/oguzh/Jupyter Note/Train/{}.txt'.format(i)),index=False,header=False)\n",
    "#print ((df['Entry'] != 0).values.sum())"
   ]
  },
  {
   "cell_type": "code",
   "execution_count": 10,
   "id": "2ebddb32",
   "metadata": {
    "scrolled": true
   },
   "outputs": [],
   "source": [
    "import pandas as pd\n",
    "import numpy as np\n",
    "import h5py\n",
    "import os\n",
    "import io\n",
    "import matplotlib.pyplot as plt\n",
    "import csv\n",
    "with h5py.File('C:/Users/oguzh/Jupyter Note/Traindata.h5', 'w') as f1:\n",
    "        column_names2 = ['Total(MeV)', 'Total(val^2)','Entry']\n",
    "        df2 = pd.read_csv(('C:/Users/oguzh/Jupyter Note/GAN/result1.txt'), names=column_names2,\n",
    "                 sep =',',skipinitialspace=True)\n",
    "        low_memory=False\n",
    "        df2 = df2.astype({\"Total(MeV)\": float,\"Total(val^2)\": float,\"Entry\": float})\n",
    "        df2_array = df2.to_numpy()\n",
    "        arr_3d_df2 = np.reshape(df2_array,(199,90,90,90,3))\n",
    "        grp = f1.create_group('Gammaknife')\n",
    "        dset = grp.create_dataset('energy',(199,90,90,90,3),data=arr_3d_df2,dtype='f')\n",
    "f1.close()"
   ]
  },
  {
   "cell_type": "code",
   "execution_count": 6,
   "id": "f9dab8f8",
   "metadata": {},
   "outputs": [
    {
     "data": {
      "text/plain": [
       "array([[0., 0., 0.],\n",
       "       [0., 0., 0.],\n",
       "       [0., 0., 0.],\n",
       "       [0., 0., 0.],\n",
       "       [0., 0., 0.],\n",
       "       [0., 0., 0.],\n",
       "       [0., 0., 0.],\n",
       "       [0., 0., 0.],\n",
       "       [0., 0., 0.],\n",
       "       [0., 0., 0.],\n",
       "       [0., 0., 0.],\n",
       "       [0., 0., 0.],\n",
       "       [0., 0., 0.],\n",
       "       [0., 0., 0.],\n",
       "       [0., 0., 0.],\n",
       "       [0., 0., 0.],\n",
       "       [0., 0., 0.],\n",
       "       [0., 0., 0.],\n",
       "       [0., 0., 0.],\n",
       "       [0., 0., 0.],\n",
       "       [0., 0., 0.],\n",
       "       [0., 0., 0.],\n",
       "       [0., 0., 0.],\n",
       "       [0., 0., 0.],\n",
       "       [0., 0., 0.],\n",
       "       [0., 0., 0.],\n",
       "       [0., 0., 0.],\n",
       "       [0., 0., 0.],\n",
       "       [0., 0., 0.],\n",
       "       [0., 0., 0.],\n",
       "       [0., 0., 0.],\n",
       "       [0., 0., 0.],\n",
       "       [0., 0., 0.],\n",
       "       [0., 0., 0.],\n",
       "       [0., 0., 0.],\n",
       "       [0., 0., 0.],\n",
       "       [0., 0., 0.],\n",
       "       [0., 0., 0.],\n",
       "       [0., 0., 0.],\n",
       "       [0., 0., 0.],\n",
       "       [0., 0., 0.],\n",
       "       [0., 0., 0.],\n",
       "       [0., 0., 0.],\n",
       "       [0., 0., 0.],\n",
       "       [0., 0., 0.],\n",
       "       [0., 0., 0.],\n",
       "       [0., 0., 0.],\n",
       "       [0., 0., 0.],\n",
       "       [0., 0., 0.],\n",
       "       [0., 0., 0.],\n",
       "       [0., 0., 0.],\n",
       "       [0., 0., 0.],\n",
       "       [0., 0., 0.],\n",
       "       [0., 0., 0.],\n",
       "       [0., 0., 0.],\n",
       "       [0., 0., 0.],\n",
       "       [0., 0., 0.],\n",
       "       [0., 0., 0.],\n",
       "       [0., 0., 0.],\n",
       "       [0., 0., 0.],\n",
       "       [0., 0., 0.],\n",
       "       [0., 0., 0.],\n",
       "       [0., 0., 0.],\n",
       "       [0., 0., 0.],\n",
       "       [0., 0., 0.],\n",
       "       [0., 0., 0.],\n",
       "       [0., 0., 0.],\n",
       "       [0., 0., 0.],\n",
       "       [0., 0., 0.],\n",
       "       [0., 0., 0.],\n",
       "       [0., 0., 0.],\n",
       "       [0., 0., 0.],\n",
       "       [0., 0., 0.],\n",
       "       [0., 0., 0.],\n",
       "       [0., 0., 0.],\n",
       "       [0., 0., 0.],\n",
       "       [0., 0., 0.],\n",
       "       [0., 0., 0.],\n",
       "       [0., 0., 0.],\n",
       "       [0., 0., 0.],\n",
       "       [0., 0., 0.],\n",
       "       [0., 0., 0.],\n",
       "       [0., 0., 0.],\n",
       "       [0., 0., 0.],\n",
       "       [0., 0., 0.],\n",
       "       [0., 0., 0.],\n",
       "       [0., 0., 0.],\n",
       "       [0., 0., 0.],\n",
       "       [0., 0., 0.],\n",
       "       [0., 0., 0.]])"
      ]
     },
     "execution_count": 6,
     "metadata": {},
     "output_type": "execute_result"
    }
   ],
   "source": [
    "#201th default dataset \n",
    "arr_3d_df2[3][1][0]"
   ]
  },
  {
   "cell_type": "code",
   "execution_count": null,
   "id": "bd5eed39",
   "metadata": {},
   "outputs": [],
   "source": [
    "import fileinput\n",
    "with open('result1.txt', 'a+') as f1:\n",
    "    for i in range(3,202):\n",
    "        with open('C:/Users/oguzh/Jupyter Note/Train/Txtdata/{}.txt'.format(i),'r') as f2:\n",
    "            f1.write(f2.read())"
   ]
  },
  {
   "cell_type": "code",
   "execution_count": null,
   "id": "1e9cad28",
   "metadata": {},
   "outputs": [],
   "source": [
    "with h5py.File('C:/Users/oguzh/Jupyter Note/Takesdeneme200first.h5', 'r') as f2:\n",
    "    print(f2['energy'].shape)\n",
    "\n",
    "    f2['energy'][:]"
   ]
  }
 ],
 "metadata": {
  "kernelspec": {
   "display_name": "Python 3 (ipykernel)",
   "language": "python",
   "name": "python3"
  },
  "language_info": {
   "codemirror_mode": {
    "name": "ipython",
    "version": 3
   },
   "file_extension": ".py",
   "mimetype": "text/x-python",
   "name": "python",
   "nbconvert_exporter": "python",
   "pygments_lexer": "ipython3",
   "version": "3.9.7"
  }
 },
 "nbformat": 4,
 "nbformat_minor": 5
}
